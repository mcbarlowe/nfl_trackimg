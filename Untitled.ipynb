{
 "cells": [
  {
   "cell_type": "code",
   "execution_count": 2,
   "metadata": {},
   "outputs": [],
   "source": [
    "import pandas as pd"
   ]
  },
  {
   "cell_type": "code",
   "execution_count": 3,
   "metadata": {},
   "outputs": [
    {
     "name": "stdout",
     "output_type": "stream",
     "text": [
      "total 96\r\n",
      "drwxr-xr-x   8 MattBarlowe  staff    256 Oct  4 00:42 \u001b[1m\u001b[36m.\u001b[m\u001b[m\r\n",
      "drwxr-xr-x  34 MattBarlowe  staff   1088 Oct  4 00:00 \u001b[1m\u001b[36m..\u001b[m\u001b[m\r\n",
      "drwxr-xr-x  13 MattBarlowe  staff    416 Oct  4 00:24 \u001b[1m\u001b[36m.git\u001b[m\u001b[m\r\n",
      "drwxr-xr-x   3 MattBarlowe  staff     96 Oct  4 00:42 \u001b[1m\u001b[36m.ipynb_checkpoints\u001b[m\u001b[m\r\n",
      "-rw-r--r--   1 MattBarlowe  staff  35149 Oct  4 00:00 LICENSE\r\n",
      "-rw-r--r--   1 MattBarlowe  staff    335 Oct  4 00:00 README.md\r\n",
      "-rw-r--r--   1 MattBarlowe  staff     72 Oct  4 00:42 Untitled.ipynb\r\n",
      "-rw-r--r--   1 MattBarlowe  staff    127 Oct  4 00:18 requirements.txt\r\n"
     ]
    }
   ],
   "source": [
    "!ls -la"
   ]
  },
  {
   "cell_type": "code",
   "execution_count": null,
   "metadata": {},
   "outputs": [],
   "source": []
  }
 ],
 "metadata": {
  "kernelspec": {
   "display_name": "Python 3",
   "language": "python",
   "name": "python3"
  },
  "language_info": {
   "codemirror_mode": {
    "name": "ipython",
    "version": 3
   },
   "file_extension": ".py",
   "mimetype": "text/x-python",
   "name": "python",
   "nbconvert_exporter": "python",
   "pygments_lexer": "ipython3",
   "version": "3.8.5"
  }
 },
 "nbformat": 4,
 "nbformat_minor": 4
}
